{
 "cells": [
  {
   "cell_type": "code",
   "execution_count": 2,
   "metadata": {},
   "outputs": [
    {
     "name": "stdout",
     "output_type": "stream",
     "text": [
      "Collecting MCRCON\n",
      "  Downloading mcrcon-0.7.0.tar.gz (4.2 kB)\n",
      "  Preparing metadata (setup.py) ... \u001b[?25ldone\n",
      "\u001b[?25hUsing legacy 'setup.py install' for MCRCON, since package 'wheel' is not installed.\n",
      "Installing collected packages: MCRCON\n",
      "    Running setup.py install for MCRCON ... \u001b[?25ldone\n",
      "\u001b[?25hSuccessfully installed MCRCON-0.7.0\n",
      "\u001b[33mWARNING: You are using pip version 21.3.1; however, version 22.0.4 is available.\n",
      "You should consider upgrading via the '/Users/siraken/.pyenv/versions/3.10.1/bin/python -m pip install --upgrade pip' command.\u001b[0m\n",
      "Note: you may need to restart the kernel to use updated packages.\n"
     ]
    }
   ],
   "source": [
    "%pip install MCRCON"
   ]
  },
  {
   "cell_type": "code",
   "execution_count": 10,
   "metadata": {},
   "outputs": [
    {
     "ename": "error",
     "evalue": "unpack requires a buffer of 8 bytes",
     "output_type": "error",
     "traceback": [
      "\u001b[0;31m---------------------------------------------------------------------------\u001b[0m",
      "\u001b[0;31merror\u001b[0m                                     Traceback (most recent call last)",
      "\u001b[1;32m/Users/siraken/Documents/GitHub/docker-minecraft-server/mcrcon.ipynb Cell 2'\u001b[0m in \u001b[0;36m<module>\u001b[0;34m\u001b[0m\n\u001b[1;32m      <a href='vscode-notebook-cell:/Users/siraken/Documents/GitHub/docker-minecraft-server/mcrcon.ipynb#ch0000001?line=1'>2</a>\u001b[0m server_password \u001b[39m=\u001b[39m \u001b[39m'\u001b[39m\u001b[39mminecraft\u001b[39m\u001b[39m'\u001b[39m\n\u001b[1;32m      <a href='vscode-notebook-cell:/Users/siraken/Documents/GitHub/docker-minecraft-server/mcrcon.ipynb#ch0000001?line=3'>4</a>\u001b[0m \u001b[39mfrom\u001b[39;00m \u001b[39mmcrcon\u001b[39;00m \u001b[39mimport\u001b[39;00m MCRcon\n\u001b[0;32m----> <a href='vscode-notebook-cell:/Users/siraken/Documents/GitHub/docker-minecraft-server/mcrcon.ipynb#ch0000001?line=4'>5</a>\u001b[0m \u001b[39mwith\u001b[39;00m MCRcon(server_address, server_password, \u001b[39m25565\u001b[39m) \u001b[39mas\u001b[39;00m mcr:\n\u001b[1;32m      <a href='vscode-notebook-cell:/Users/siraken/Documents/GitHub/docker-minecraft-server/mcrcon.ipynb#ch0000001?line=5'>6</a>\u001b[0m   mcr\u001b[39m.\u001b[39mcommand(\u001b[39m'\u001b[39m\u001b[39msay Hello, world!\u001b[39m\u001b[39m'\u001b[39m)\n\u001b[1;32m      <a href='vscode-notebook-cell:/Users/siraken/Documents/GitHub/docker-minecraft-server/mcrcon.ipynb#ch0000001?line=6'>7</a>\u001b[0m   \u001b[39mprint\u001b[39m(mcr\u001b[39m.\u001b[39mcommand(\u001b[39m'\u001b[39m\u001b[39mlist\u001b[39m\u001b[39m'\u001b[39m))\n",
      "File \u001b[0;32m~/.pyenv/versions/3.10.1/lib/python3.10/site-packages/mcrcon.py:57\u001b[0m, in \u001b[0;36mMCRcon.__enter__\u001b[0;34m(self)\u001b[0m\n\u001b[1;32m     <a href='file:///Users/siraken/.pyenv/versions/3.10.1/lib/python3.10/site-packages/mcrcon.py?line=55'>56</a>\u001b[0m \u001b[39mdef\u001b[39;00m \u001b[39m__enter__\u001b[39m(\u001b[39mself\u001b[39m):\n\u001b[0;32m---> <a href='file:///Users/siraken/.pyenv/versions/3.10.1/lib/python3.10/site-packages/mcrcon.py?line=56'>57</a>\u001b[0m     \u001b[39mself\u001b[39;49m\u001b[39m.\u001b[39;49mconnect()\n\u001b[1;32m     <a href='file:///Users/siraken/.pyenv/versions/3.10.1/lib/python3.10/site-packages/mcrcon.py?line=57'>58</a>\u001b[0m     \u001b[39mreturn\u001b[39;00m \u001b[39mself\u001b[39m\n",
      "File \u001b[0;32m~/.pyenv/versions/3.10.1/lib/python3.10/site-packages/mcrcon.py:78\u001b[0m, in \u001b[0;36mMCRcon.connect\u001b[0;34m(self)\u001b[0m\n\u001b[1;32m     <a href='file:///Users/siraken/.pyenv/versions/3.10.1/lib/python3.10/site-packages/mcrcon.py?line=74'>75</a>\u001b[0m     \u001b[39mself\u001b[39m\u001b[39m.\u001b[39msocket \u001b[39m=\u001b[39m ctx\u001b[39m.\u001b[39mwrap_socket(\u001b[39mself\u001b[39m\u001b[39m.\u001b[39msocket, server_hostname\u001b[39m=\u001b[39m\u001b[39mself\u001b[39m\u001b[39m.\u001b[39mhost)\n\u001b[1;32m     <a href='file:///Users/siraken/.pyenv/versions/3.10.1/lib/python3.10/site-packages/mcrcon.py?line=76'>77</a>\u001b[0m \u001b[39mself\u001b[39m\u001b[39m.\u001b[39msocket\u001b[39m.\u001b[39mconnect((\u001b[39mself\u001b[39m\u001b[39m.\u001b[39mhost, \u001b[39mself\u001b[39m\u001b[39m.\u001b[39mport))\n\u001b[0;32m---> <a href='file:///Users/siraken/.pyenv/versions/3.10.1/lib/python3.10/site-packages/mcrcon.py?line=77'>78</a>\u001b[0m \u001b[39mself\u001b[39;49m\u001b[39m.\u001b[39;49m_send(\u001b[39m3\u001b[39;49m, \u001b[39mself\u001b[39;49m\u001b[39m.\u001b[39;49mpassword)\n",
      "File \u001b[0;32m~/.pyenv/versions/3.10.1/lib/python3.10/site-packages/mcrcon.py:112\u001b[0m, in \u001b[0;36mMCRcon._send\u001b[0;34m(self, out_type, out_data)\u001b[0m\n\u001b[1;32m    <a href='file:///Users/siraken/.pyenv/versions/3.10.1/lib/python3.10/site-packages/mcrcon.py?line=109'>110</a>\u001b[0m (in_length,) \u001b[39m=\u001b[39m struct\u001b[39m.\u001b[39munpack(\u001b[39m\"\u001b[39m\u001b[39m<i\u001b[39m\u001b[39m\"\u001b[39m, \u001b[39mself\u001b[39m\u001b[39m.\u001b[39m_read(\u001b[39m4\u001b[39m))\n\u001b[1;32m    <a href='file:///Users/siraken/.pyenv/versions/3.10.1/lib/python3.10/site-packages/mcrcon.py?line=110'>111</a>\u001b[0m in_payload \u001b[39m=\u001b[39m \u001b[39mself\u001b[39m\u001b[39m.\u001b[39m_read(in_length)\n\u001b[0;32m--> <a href='file:///Users/siraken/.pyenv/versions/3.10.1/lib/python3.10/site-packages/mcrcon.py?line=111'>112</a>\u001b[0m in_id, in_type \u001b[39m=\u001b[39m struct\u001b[39m.\u001b[39;49munpack(\u001b[39m\"\u001b[39;49m\u001b[39m<ii\u001b[39;49m\u001b[39m\"\u001b[39;49m, in_payload[:\u001b[39m8\u001b[39;49m])\n\u001b[1;32m    <a href='file:///Users/siraken/.pyenv/versions/3.10.1/lib/python3.10/site-packages/mcrcon.py?line=112'>113</a>\u001b[0m in_data_partial, in_padding \u001b[39m=\u001b[39m in_payload[\u001b[39m8\u001b[39m:\u001b[39m-\u001b[39m\u001b[39m2\u001b[39m], in_payload[\u001b[39m-\u001b[39m\u001b[39m2\u001b[39m:]\n\u001b[1;32m    <a href='file:///Users/siraken/.pyenv/versions/3.10.1/lib/python3.10/site-packages/mcrcon.py?line=114'>115</a>\u001b[0m \u001b[39m# Sanity checks\u001b[39;00m\n",
      "\u001b[0;31merror\u001b[0m: unpack requires a buffer of 8 bytes"
     ]
    }
   ],
   "source": [
    "server_address = '127.0.0.1'\n",
    "server_password = 'minecraft'\n",
    "\n",
    "from mcrcon import MCRcon\n",
    "with MCRcon(server_address, server_password, 25565) as mcr:\n",
    "  mcr.command('say Hello, world!')\n",
    "  print(mcr.command('list'))"
   ]
  }
 ],
 "metadata": {
  "interpreter": {
   "hash": "c48591deebc50d957cfdf891736c8711709a3d2897e7924dfd1405b821d07fba"
  },
  "kernelspec": {
   "display_name": "Python 3.10.1 64-bit ('3.10.1')",
   "language": "python",
   "name": "python3"
  },
  "language_info": {
   "codemirror_mode": {
    "name": "ipython",
    "version": 3
   },
   "file_extension": ".py",
   "mimetype": "text/x-python",
   "name": "python",
   "nbconvert_exporter": "python",
   "pygments_lexer": "ipython3",
   "version": "3.10.1"
  },
  "orig_nbformat": 4
 },
 "nbformat": 4,
 "nbformat_minor": 2
}
